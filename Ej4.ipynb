{
 "cells": [
  {
   "cell_type": "markdown",
   "id": "8482b495-3b37-4516-823d-3b59f6ad2e16",
   "metadata": {},
   "source": [
    "<h1> Curso 8"
   ]
  },
  {
   "cell_type": "markdown",
   "id": "c4ab42fd-d830-4a16-8f07-cb458670e721",
   "metadata": {},
   "source": [
    "<h2> Ejercicio 4"
   ]
  },
  {
   "cell_type": "markdown",
   "id": "d451ba30-4e8b-4456-8108-11cf67d784a3",
   "metadata": {},
   "source": [
    "Daniel González"
   ]
  },
  {
   "cell_type": "markdown",
   "id": "1d24fc7a-ab0e-4745-8013-1d7be2c212c5",
   "metadata": {},
   "source": [
    "Regresión Logística"
   ]
  },
  {
   "cell_type": "code",
   "execution_count": 3,
   "id": "7eea4819-9097-4ec5-9e70-0afcd2426071",
   "metadata": {},
   "outputs": [],
   "source": [
    "import pandas as pd\n",
    "import pylab as pl\n",
    "import numpy as np\n",
    "import scipy.optimize as opt\n",
    "from sklearn import preprocessing\n",
    "%matplotlib inline \n",
    "import matplotlib.pyplot as plt"
   ]
  },
  {
   "cell_type": "code",
   "execution_count": 4,
   "id": "7d24ab08-061d-476b-9470-e27446ac7b1a",
   "metadata": {},
   "outputs": [
    {
     "data": {
      "text/html": [
       "<div>\n",
       "<style scoped>\n",
       "    .dataframe tbody tr th:only-of-type {\n",
       "        vertical-align: middle;\n",
       "    }\n",
       "\n",
       "    .dataframe tbody tr th {\n",
       "        vertical-align: top;\n",
       "    }\n",
       "\n",
       "    .dataframe thead th {\n",
       "        text-align: right;\n",
       "    }\n",
       "</style>\n",
       "<table border=\"1\" class=\"dataframe\">\n",
       "  <thead>\n",
       "    <tr style=\"text-align: right;\">\n",
       "      <th></th>\n",
       "      <th>Customer Id</th>\n",
       "      <th>Age</th>\n",
       "      <th>Edu</th>\n",
       "      <th>Years Employed</th>\n",
       "      <th>Income</th>\n",
       "      <th>Card Debt</th>\n",
       "      <th>Other Debt</th>\n",
       "      <th>Defaulted</th>\n",
       "      <th>Address</th>\n",
       "      <th>DebtIncomeRatio</th>\n",
       "    </tr>\n",
       "  </thead>\n",
       "  <tbody>\n",
       "    <tr>\n",
       "      <th>0</th>\n",
       "      <td>1</td>\n",
       "      <td>41</td>\n",
       "      <td>2</td>\n",
       "      <td>6</td>\n",
       "      <td>19</td>\n",
       "      <td>0.124</td>\n",
       "      <td>1.073</td>\n",
       "      <td>0.0</td>\n",
       "      <td>NBA001</td>\n",
       "      <td>6.3</td>\n",
       "    </tr>\n",
       "    <tr>\n",
       "      <th>1</th>\n",
       "      <td>2</td>\n",
       "      <td>47</td>\n",
       "      <td>1</td>\n",
       "      <td>26</td>\n",
       "      <td>100</td>\n",
       "      <td>4.582</td>\n",
       "      <td>8.218</td>\n",
       "      <td>0.0</td>\n",
       "      <td>NBA021</td>\n",
       "      <td>12.8</td>\n",
       "    </tr>\n",
       "    <tr>\n",
       "      <th>2</th>\n",
       "      <td>3</td>\n",
       "      <td>33</td>\n",
       "      <td>2</td>\n",
       "      <td>10</td>\n",
       "      <td>57</td>\n",
       "      <td>6.111</td>\n",
       "      <td>5.802</td>\n",
       "      <td>1.0</td>\n",
       "      <td>NBA013</td>\n",
       "      <td>20.9</td>\n",
       "    </tr>\n",
       "    <tr>\n",
       "      <th>3</th>\n",
       "      <td>4</td>\n",
       "      <td>29</td>\n",
       "      <td>2</td>\n",
       "      <td>4</td>\n",
       "      <td>19</td>\n",
       "      <td>0.681</td>\n",
       "      <td>0.516</td>\n",
       "      <td>0.0</td>\n",
       "      <td>NBA009</td>\n",
       "      <td>6.3</td>\n",
       "    </tr>\n",
       "    <tr>\n",
       "      <th>4</th>\n",
       "      <td>5</td>\n",
       "      <td>47</td>\n",
       "      <td>1</td>\n",
       "      <td>31</td>\n",
       "      <td>253</td>\n",
       "      <td>9.308</td>\n",
       "      <td>8.908</td>\n",
       "      <td>0.0</td>\n",
       "      <td>NBA008</td>\n",
       "      <td>7.2</td>\n",
       "    </tr>\n",
       "  </tbody>\n",
       "</table>\n",
       "</div>"
      ],
      "text/plain": [
       "   Customer Id  Age  Edu  Years Employed  Income  Card Debt  Other Debt  \\\n",
       "0            1   41    2               6      19      0.124       1.073   \n",
       "1            2   47    1              26     100      4.582       8.218   \n",
       "2            3   33    2              10      57      6.111       5.802   \n",
       "3            4   29    2               4      19      0.681       0.516   \n",
       "4            5   47    1              31     253      9.308       8.908   \n",
       "\n",
       "   Defaulted Address  DebtIncomeRatio  \n",
       "0        0.0  NBA001              6.3  \n",
       "1        0.0  NBA021             12.8  \n",
       "2        1.0  NBA013             20.9  \n",
       "3        0.0  NBA009              6.3  \n",
       "4        0.0  NBA008              7.2  "
      ]
     },
     "execution_count": 4,
     "metadata": {},
     "output_type": "execute_result"
    }
   ],
   "source": [
    "df = pd.read_csv(\"prestamo.csv\")\n",
    "df.head()"
   ]
  },
  {
   "cell_type": "code",
   "execution_count": 5,
   "id": "55a32441-8baf-47ea-8e37-9a2514fe36ab",
   "metadata": {},
   "outputs": [],
   "source": [
    "df.drop('Address', axis='columns', inplace=True)"
   ]
  },
  {
   "cell_type": "code",
   "execution_count": 6,
   "id": "57f09d4f-641d-44e3-8258-f00406fdbfe5",
   "metadata": {},
   "outputs": [],
   "source": [
    "df = df.dropna()"
   ]
  },
  {
   "cell_type": "code",
   "execution_count": 7,
   "id": "960e3367-ca84-4343-ac83-b4adf3e90fcd",
   "metadata": {},
   "outputs": [
    {
     "name": "stdout",
     "output_type": "stream",
     "text": [
      "<class 'pandas.core.frame.DataFrame'>\n",
      "Int64Index: 700 entries, 0 to 849\n",
      "Data columns (total 9 columns):\n",
      " #   Column           Non-Null Count  Dtype  \n",
      "---  ------           --------------  -----  \n",
      " 0   Customer Id      700 non-null    int64  \n",
      " 1   Age              700 non-null    int64  \n",
      " 2   Edu              700 non-null    int64  \n",
      " 3   Years Employed   700 non-null    int64  \n",
      " 4   Income           700 non-null    int64  \n",
      " 5   Card Debt        700 non-null    float64\n",
      " 6   Other Debt       700 non-null    float64\n",
      " 7   Defaulted        700 non-null    float64\n",
      " 8   DebtIncomeRatio  700 non-null    float64\n",
      "dtypes: float64(4), int64(5)\n",
      "memory usage: 54.7 KB\n"
     ]
    }
   ],
   "source": [
    "df.info()"
   ]
  },
  {
   "cell_type": "code",
   "execution_count": 8,
   "id": "17f88271-b7f1-4076-9f21-90b9dbad704a",
   "metadata": {},
   "outputs": [
    {
     "data": {
      "text/plain": [
       "array([[1.000e+00, 4.100e+01, 6.000e+00, 1.900e+01, 1.240e-01, 1.073e+00,\n",
       "        0.000e+00, 6.300e+00],\n",
       "       [2.000e+00, 4.700e+01, 2.600e+01, 1.000e+02, 4.582e+00, 8.218e+00,\n",
       "        0.000e+00, 1.280e+01],\n",
       "       [3.000e+00, 3.300e+01, 1.000e+01, 5.700e+01, 6.111e+00, 5.802e+00,\n",
       "        1.000e+00, 2.090e+01],\n",
       "       [4.000e+00, 2.900e+01, 4.000e+00, 1.900e+01, 6.810e-01, 5.160e-01,\n",
       "        0.000e+00, 6.300e+00],\n",
       "       [5.000e+00, 4.700e+01, 3.100e+01, 2.530e+02, 9.308e+00, 8.908e+00,\n",
       "        0.000e+00, 7.200e+00]])"
      ]
     },
     "execution_count": 8,
     "metadata": {},
     "output_type": "execute_result"
    }
   ],
   "source": [
    "feature_df = df[['Customer Id', 'Age', 'Years Employed', 'Income', 'Card Debt', 'Other Debt', 'Defaulted', 'DebtIncomeRatio']] .values  #.astype(float)\n",
    "X = np.asarray(feature_df)\n",
    "X[0:5]"
   ]
  },
  {
   "cell_type": "code",
   "execution_count": 9,
   "id": "7a20277e-5628-4cf2-bd20-0e72350bfe1c",
   "metadata": {},
   "outputs": [
    {
     "data": {
      "text/plain": [
       "array([[-1.76624318,  0.76830405, -0.35900652, -0.72310225, -0.67569934,\n",
       "        -0.60428433, -0.59494973, -0.58052847],\n",
       "       [-1.76213049,  1.51908977,  2.64702891,  1.47870741,  1.43142147,\n",
       "         1.5706204 , -0.59494973,  0.37222169],\n",
       "       [-1.75801779, -0.23274357,  0.24220057,  0.30984549,  2.15411948,\n",
       "         0.83520125,  1.68081427,  1.55949495],\n",
       "       [-1.7539051 , -0.73326739, -0.65961006, -0.72310225, -0.41242741,\n",
       "        -0.77383254, -0.59494973, -0.58052847],\n",
       "       [-1.74979241,  1.51908977,  3.39853777,  5.6376812 ,  3.66521532,\n",
       "         1.78065319, -0.59494973, -0.44860921]])"
      ]
     },
     "execution_count": 9,
     "metadata": {},
     "output_type": "execute_result"
    }
   ],
   "source": [
    "from sklearn import preprocessing\n",
    "X = preprocessing.StandardScaler().fit(X).transform(X)\n",
    "X[0:5]"
   ]
  },
  {
   "cell_type": "code",
   "execution_count": 11,
   "id": "41eea15e-880c-4542-987b-e213617159b2",
   "metadata": {},
   "outputs": [
    {
     "data": {
      "text/plain": [
       "array([2, 1, 2, 2, 1])"
      ]
     },
     "execution_count": 11,
     "metadata": {},
     "output_type": "execute_result"
    }
   ],
   "source": [
    "df['Edu'] = df['Edu'].astype('int')\n",
    "y = np.asarray(df['Edu'])\n",
    "y [0:5]"
   ]
  },
  {
   "cell_type": "code",
   "execution_count": 12,
   "id": "d38f106a-c0d6-4eb2-8229-6783d5b77bbb",
   "metadata": {},
   "outputs": [
    {
     "name": "stdout",
     "output_type": "stream",
     "text": [
      "Train set: (560, 8) (560,)\n",
      "Test set: (140, 8) (140,)\n"
     ]
    }
   ],
   "source": [
    "from sklearn.model_selection import train_test_split\n",
    "X_train, X_test, y_train, y_test = train_test_split( X, y, test_size=0.2, random_state=4)\n",
    "print ('Train set:', X_train.shape,  y_train.shape)\n",
    "print ('Test set:', X_test.shape,  y_test.shape)"
   ]
  },
  {
   "cell_type": "code",
   "execution_count": 13,
   "id": "969bf241-eb9c-4303-835f-e6b42f972c1d",
   "metadata": {},
   "outputs": [
    {
     "name": "stderr",
     "output_type": "stream",
     "text": [
      "/home/jupyterlab/conda/envs/python/lib/python3.7/site-packages/sklearn/linear_model/least_angle.py:35: DeprecationWarning: `np.float` is a deprecated alias for the builtin `float`. To silence this warning, use `float` by itself. Doing this will not modify any behavior and is safe. If you specifically wanted the numpy scalar type, use `np.float64` here.\n",
      "Deprecated in NumPy 1.20; for more details and guidance: https://numpy.org/devdocs/release/1.20.0-notes.html#deprecations\n",
      "  eps=np.finfo(np.float).eps,\n",
      "/home/jupyterlab/conda/envs/python/lib/python3.7/site-packages/sklearn/linear_model/least_angle.py:597: DeprecationWarning: `np.float` is a deprecated alias for the builtin `float`. To silence this warning, use `float` by itself. Doing this will not modify any behavior and is safe. If you specifically wanted the numpy scalar type, use `np.float64` here.\n",
      "Deprecated in NumPy 1.20; for more details and guidance: https://numpy.org/devdocs/release/1.20.0-notes.html#deprecations\n",
      "  eps=np.finfo(np.float).eps, copy_X=True, fit_path=True,\n",
      "/home/jupyterlab/conda/envs/python/lib/python3.7/site-packages/sklearn/linear_model/least_angle.py:836: DeprecationWarning: `np.float` is a deprecated alias for the builtin `float`. To silence this warning, use `float` by itself. Doing this will not modify any behavior and is safe. If you specifically wanted the numpy scalar type, use `np.float64` here.\n",
      "Deprecated in NumPy 1.20; for more details and guidance: https://numpy.org/devdocs/release/1.20.0-notes.html#deprecations\n",
      "  eps=np.finfo(np.float).eps, copy_X=True, fit_path=True,\n",
      "/home/jupyterlab/conda/envs/python/lib/python3.7/site-packages/sklearn/linear_model/least_angle.py:862: DeprecationWarning: `np.float` is a deprecated alias for the builtin `float`. To silence this warning, use `float` by itself. Doing this will not modify any behavior and is safe. If you specifically wanted the numpy scalar type, use `np.float64` here.\n",
      "Deprecated in NumPy 1.20; for more details and guidance: https://numpy.org/devdocs/release/1.20.0-notes.html#deprecations\n",
      "  eps=np.finfo(np.float).eps, positive=False):\n",
      "/home/jupyterlab/conda/envs/python/lib/python3.7/site-packages/sklearn/linear_model/least_angle.py:1097: DeprecationWarning: `np.float` is a deprecated alias for the builtin `float`. To silence this warning, use `float` by itself. Doing this will not modify any behavior and is safe. If you specifically wanted the numpy scalar type, use `np.float64` here.\n",
      "Deprecated in NumPy 1.20; for more details and guidance: https://numpy.org/devdocs/release/1.20.0-notes.html#deprecations\n",
      "  max_n_alphas=1000, n_jobs=None, eps=np.finfo(np.float).eps,\n",
      "/home/jupyterlab/conda/envs/python/lib/python3.7/site-packages/sklearn/linear_model/least_angle.py:1344: DeprecationWarning: `np.float` is a deprecated alias for the builtin `float`. To silence this warning, use `float` by itself. Doing this will not modify any behavior and is safe. If you specifically wanted the numpy scalar type, use `np.float64` here.\n",
      "Deprecated in NumPy 1.20; for more details and guidance: https://numpy.org/devdocs/release/1.20.0-notes.html#deprecations\n",
      "  max_n_alphas=1000, n_jobs=None, eps=np.finfo(np.float).eps,\n",
      "/home/jupyterlab/conda/envs/python/lib/python3.7/site-packages/sklearn/linear_model/least_angle.py:1480: DeprecationWarning: `np.float` is a deprecated alias for the builtin `float`. To silence this warning, use `float` by itself. Doing this will not modify any behavior and is safe. If you specifically wanted the numpy scalar type, use `np.float64` here.\n",
      "Deprecated in NumPy 1.20; for more details and guidance: https://numpy.org/devdocs/release/1.20.0-notes.html#deprecations\n",
      "  eps=np.finfo(np.float).eps, copy_X=True, positive=False):\n",
      "/home/jupyterlab/conda/envs/python/lib/python3.7/site-packages/sklearn/linear_model/randomized_l1.py:152: DeprecationWarning: `np.float` is a deprecated alias for the builtin `float`. To silence this warning, use `float` by itself. Doing this will not modify any behavior and is safe. If you specifically wanted the numpy scalar type, use `np.float64` here.\n",
      "Deprecated in NumPy 1.20; for more details and guidance: https://numpy.org/devdocs/release/1.20.0-notes.html#deprecations\n",
      "  precompute=False, eps=np.finfo(np.float).eps,\n",
      "/home/jupyterlab/conda/envs/python/lib/python3.7/site-packages/sklearn/linear_model/randomized_l1.py:320: DeprecationWarning: `np.float` is a deprecated alias for the builtin `float`. To silence this warning, use `float` by itself. Doing this will not modify any behavior and is safe. If you specifically wanted the numpy scalar type, use `np.float64` here.\n",
      "Deprecated in NumPy 1.20; for more details and guidance: https://numpy.org/devdocs/release/1.20.0-notes.html#deprecations\n",
      "  eps=np.finfo(np.float).eps, random_state=None,\n",
      "/home/jupyterlab/conda/envs/python/lib/python3.7/site-packages/sklearn/linear_model/randomized_l1.py:580: DeprecationWarning: `np.float` is a deprecated alias for the builtin `float`. To silence this warning, use `float` by itself. Doing this will not modify any behavior and is safe. If you specifically wanted the numpy scalar type, use `np.float64` here.\n",
      "Deprecated in NumPy 1.20; for more details and guidance: https://numpy.org/devdocs/release/1.20.0-notes.html#deprecations\n",
      "  eps=4 * np.finfo(np.float).eps, n_jobs=None,\n",
      "/home/jupyterlab/conda/envs/python/lib/python3.7/site-packages/sklearn/linear_model/logistic.py:460: FutureWarning: Default multi_class will be changed to 'auto' in 0.22. Specify the multi_class option to silence this warning.\n",
      "  \"this warning.\", FutureWarning)\n"
     ]
    },
    {
     "data": {
      "text/plain": [
       "LogisticRegression(C=0.01, class_weight=None, dual=False, fit_intercept=True,\n",
       "          intercept_scaling=1, max_iter=100, multi_class='warn',\n",
       "          n_jobs=None, penalty='l2', random_state=None, solver='liblinear',\n",
       "          tol=0.0001, verbose=0, warm_start=False)"
      ]
     },
     "execution_count": 13,
     "metadata": {},
     "output_type": "execute_result"
    }
   ],
   "source": [
    "from sklearn.linear_model import LogisticRegression\n",
    "from sklearn.metrics import confusion_matrix\n",
    "LR = LogisticRegression(C=0.01, solver='liblinear').fit(X_train,y_train)\n",
    "LR"
   ]
  },
  {
   "cell_type": "code",
   "execution_count": 14,
   "id": "a016b085-d616-47b5-810f-9dd324bf3db1",
   "metadata": {},
   "outputs": [
    {
     "data": {
      "text/plain": [
       "array([2, 1, 1, 1, 1, 1, 1, 1, 1, 1, 1, 1, 1, 1, 1, 1, 1, 1, 1, 1, 1, 1,\n",
       "       1, 1, 1, 1, 1, 1, 1, 1, 1, 1, 1, 1, 1, 1, 1, 1, 1, 1, 1, 2, 1, 1,\n",
       "       1, 1, 3, 1, 2, 1, 1, 1, 1, 1, 1, 1, 2, 1, 1, 1, 1, 1, 1, 1, 1, 1,\n",
       "       1, 1, 1, 1, 1, 3, 1, 1, 1, 1, 1, 1, 1, 1, 1, 1, 1, 1, 1, 1, 1, 1,\n",
       "       1, 1, 1, 2, 1, 1, 1, 1, 1, 2, 1, 1, 1, 1, 1, 1, 1, 1, 1, 1, 1, 2,\n",
       "       1, 1, 1, 1, 1, 1, 1, 1, 1, 1, 1, 1, 1, 1, 2, 1, 1, 1, 1, 1, 1, 1,\n",
       "       1, 1, 1, 1, 1, 1, 1, 1])"
      ]
     },
     "execution_count": 14,
     "metadata": {},
     "output_type": "execute_result"
    }
   ],
   "source": [
    "yhat = LR.predict(X_test)\n",
    "yhat"
   ]
  },
  {
   "cell_type": "code",
   "execution_count": 15,
   "id": "beeefd2d-422b-4d30-91eb-97f4b4b5b42d",
   "metadata": {},
   "outputs": [
    {
     "data": {
      "text/plain": [
       "array([[0.24693372, 0.26767373, 0.18929636, 0.16125284, 0.13484335],\n",
       "       [0.2973287 , 0.2090042 , 0.19090856, 0.1563576 , 0.14640094],\n",
       "       [0.32596391, 0.22867852, 0.17303271, 0.13907517, 0.13324969],\n",
       "       [0.30301416, 0.23811937, 0.16748802, 0.15730438, 0.13407408],\n",
       "       [0.33298393, 0.22816742, 0.16571927, 0.14041927, 0.1327101 ],\n",
       "       [0.33398739, 0.21890943, 0.17006633, 0.14418247, 0.13285438],\n",
       "       [0.37767684, 0.20269417, 0.14773832, 0.13596664, 0.13592403],\n",
       "       [0.30100717, 0.23122156, 0.17335513, 0.15947033, 0.13494581],\n",
       "       [0.28324923, 0.23185914, 0.19457513, 0.15075499, 0.13956152],\n",
       "       [0.30753293, 0.21788159, 0.18286281, 0.15408173, 0.13764093],\n",
       "       [0.30328761, 0.24210472, 0.16396661, 0.15771287, 0.13292818],\n",
       "       [0.26242185, 0.22681753, 0.20257348, 0.16846735, 0.13971979],\n",
       "       [0.34872068, 0.2142729 , 0.15236531, 0.15027251, 0.1343686 ],\n",
       "       [0.25914475, 0.24833646, 0.18501324, 0.16884664, 0.13865891],\n",
       "       [0.29756776, 0.2321441 , 0.18928263, 0.15019394, 0.13081157],\n",
       "       [0.32049206, 0.22954533, 0.17340989, 0.14336846, 0.13318426],\n",
       "       [0.31496617, 0.23009178, 0.15709662, 0.16330446, 0.13454096],\n",
       "       [0.33780224, 0.2129828 , 0.15531899, 0.15942267, 0.1344733 ],\n",
       "       [0.2830526 , 0.22288126, 0.1937087 , 0.15983608, 0.14052134],\n",
       "       [0.27314944, 0.21902093, 0.19299986, 0.16990119, 0.14492858],\n",
       "       [0.32305324, 0.19705227, 0.18384482, 0.16052324, 0.13552643],\n",
       "       [0.36529407, 0.20752365, 0.16142726, 0.13287463, 0.13288038],\n",
       "       [0.3468548 , 0.22670174, 0.14555613, 0.14803531, 0.13285202],\n",
       "       [0.35424664, 0.21272617, 0.15788807, 0.14163037, 0.13350875],\n",
       "       [0.31338735, 0.21633712, 0.18296262, 0.15162915, 0.13568376],\n",
       "       [0.27556631, 0.24646377, 0.18325353, 0.16140922, 0.13330717],\n",
       "       [0.33717791, 0.21529741, 0.15782703, 0.15340427, 0.13629338],\n",
       "       [0.36648306, 0.21098655, 0.14888968, 0.1421861 , 0.13145461],\n",
       "       [0.29075706, 0.24649608, 0.15890819, 0.16514032, 0.13869835],\n",
       "       [0.34846764, 0.22435844, 0.15564182, 0.13915316, 0.13237894],\n",
       "       [0.32622385, 0.23350355, 0.15986693, 0.1478964 , 0.13250927],\n",
       "       [0.38021876, 0.20476515, 0.14579295, 0.13035697, 0.13886618],\n",
       "       [0.28109046, 0.22983169, 0.18480545, 0.16453059, 0.13974181],\n",
       "       [0.29420671, 0.2572152 , 0.162053  , 0.15563205, 0.13089305],\n",
       "       [0.32178265, 0.23406972, 0.16510404, 0.14661815, 0.13242545],\n",
       "       [0.26441862, 0.2174058 , 0.21587558, 0.16575913, 0.13654087],\n",
       "       [0.35431746, 0.22375681, 0.15096934, 0.13913259, 0.1318238 ],\n",
       "       [0.31363011, 0.24081416, 0.15388781, 0.15756741, 0.13410051],\n",
       "       [0.33636489, 0.23420955, 0.14543172, 0.15129127, 0.13270258],\n",
       "       [0.30520913, 0.23761668, 0.16942078, 0.157771  , 0.1299824 ],\n",
       "       [0.32292695, 0.22992673, 0.17092032, 0.14425103, 0.13197497],\n",
       "       [0.24660106, 0.26867025, 0.18442621, 0.16619852, 0.13410395],\n",
       "       [0.29580343, 0.2450991 , 0.18211721, 0.1471471 , 0.12983316],\n",
       "       [0.37386092, 0.19339863, 0.16501545, 0.13409542, 0.13362958],\n",
       "       [0.26950658, 0.25622132, 0.19149374, 0.15071846, 0.1320599 ],\n",
       "       [0.38125819, 0.21216586, 0.14410138, 0.1296691 , 0.13280547],\n",
       "       [0.07738529, 0.23430188, 0.30898276, 0.22827808, 0.15105199],\n",
       "       [0.345487  , 0.22521769, 0.16260857, 0.13424773, 0.13243901],\n",
       "       [0.17507765, 0.27487145, 0.21819247, 0.17751823, 0.1543402 ],\n",
       "       [0.30569947, 0.23592711, 0.15992255, 0.16313709, 0.13531379],\n",
       "       [0.33355093, 0.20305388, 0.17761515, 0.15077357, 0.13500647],\n",
       "       [0.29016569, 0.23070709, 0.18912808, 0.15536961, 0.13462952],\n",
       "       [0.33809845, 0.23042653, 0.15618354, 0.14021883, 0.13507265],\n",
       "       [0.32589163, 0.20127056, 0.16845553, 0.1677507 , 0.13663157],\n",
       "       [0.30138674, 0.24024785, 0.15690923, 0.16486454, 0.13659163],\n",
       "       [0.28239261, 0.23713008, 0.17759667, 0.16415476, 0.13872588],\n",
       "       [0.16536291, 0.25886203, 0.24615756, 0.17704207, 0.15257543],\n",
       "       [0.2768281 , 0.25865265, 0.17715679, 0.15575867, 0.13160378],\n",
       "       [0.35023764, 0.22028304, 0.15862176, 0.13479184, 0.13606572],\n",
       "       [0.31913419, 0.23967674, 0.16304784, 0.14493807, 0.13320316],\n",
       "       [0.30291335, 0.24409498, 0.18090387, 0.14172849, 0.13035931],\n",
       "       [0.27743911, 0.23212588, 0.17927809, 0.16778603, 0.1433709 ],\n",
       "       [0.3134939 , 0.23562276, 0.16232707, 0.15363107, 0.1349252 ],\n",
       "       [0.33678914, 0.21093466, 0.16827415, 0.15065878, 0.13334327],\n",
       "       [0.3477908 , 0.22833527, 0.14689447, 0.14448316, 0.13249629],\n",
       "       [0.31916188, 0.21672727, 0.17243533, 0.15003302, 0.1416425 ],\n",
       "       [0.30640236, 0.2229575 , 0.18110214, 0.14473482, 0.14480317],\n",
       "       [0.31294991, 0.21927396, 0.1670227 , 0.16134173, 0.1394117 ],\n",
       "       [0.29637108, 0.21458236, 0.20001148, 0.14716666, 0.14186842],\n",
       "       [0.32372264, 0.22478597, 0.17444468, 0.14021103, 0.13683568],\n",
       "       [0.28522584, 0.2036544 , 0.2083745 , 0.15917593, 0.14356933],\n",
       "       [0.03877388, 0.27766735, 0.29300166, 0.23843611, 0.15212099],\n",
       "       [0.2823001 , 0.23568746, 0.19202076, 0.14985973, 0.14013195],\n",
       "       [0.27138639, 0.24077475, 0.19872138, 0.15294222, 0.13617526],\n",
       "       [0.30135429, 0.22756422, 0.18609573, 0.14656177, 0.138424  ],\n",
       "       [0.32502951, 0.21118455, 0.18101366, 0.14091249, 0.14185979],\n",
       "       [0.25959871, 0.24522993, 0.20129388, 0.15760156, 0.13627592],\n",
       "       [0.3491376 , 0.22626833, 0.154079  , 0.13686899, 0.13364609],\n",
       "       [0.28856123, 0.22418105, 0.19498339, 0.15658319, 0.13569115],\n",
       "       [0.40015872, 0.20586548, 0.13907631, 0.12346542, 0.13143406],\n",
       "       [0.34862322, 0.20918467, 0.17327736, 0.12818448, 0.14073028],\n",
       "       [0.34464129, 0.21490452, 0.1531998 , 0.15294665, 0.13430774],\n",
       "       [0.27110977, 0.20730192, 0.21696669, 0.16785252, 0.13676911],\n",
       "       [0.2973199 , 0.24289592, 0.17859905, 0.15074282, 0.1304423 ],\n",
       "       [0.2987883 , 0.22660161, 0.18304472, 0.15487808, 0.13668729],\n",
       "       [0.27315412, 0.22502121, 0.1988661 , 0.17069757, 0.13226099],\n",
       "       [0.31902568, 0.22779461, 0.17454702, 0.14529068, 0.133342  ],\n",
       "       [0.35942132, 0.21581671, 0.14798798, 0.14248898, 0.13428501],\n",
       "       [0.36038863, 0.20395119, 0.15825679, 0.14257666, 0.13482672],\n",
       "       [0.32264234, 0.23013988, 0.17085886, 0.1420411 , 0.13431782],\n",
       "       [0.33312279, 0.22997515, 0.14816872, 0.15434399, 0.13438935],\n",
       "       [0.25566593, 0.25642153, 0.19639638, 0.15724939, 0.13426677],\n",
       "       [0.33161747, 0.2276875 , 0.16471701, 0.14246099, 0.13351702],\n",
       "       [0.30393272, 0.23172796, 0.17688847, 0.15176887, 0.13568198],\n",
       "       [0.29699466, 0.22702016, 0.18248351, 0.15628072, 0.13722095],\n",
       "       [0.29303268, 0.21032631, 0.18757007, 0.17014876, 0.13892218],\n",
       "       [0.32312543, 0.23914238, 0.14636848, 0.15847711, 0.1328866 ],\n",
       "       [0.234455  , 0.26215963, 0.20340917, 0.16439147, 0.13558473],\n",
       "       [0.34405752, 0.21799291, 0.15347922, 0.15123589, 0.13323446],\n",
       "       [0.28025791, 0.25701813, 0.17022054, 0.16030697, 0.13219645],\n",
       "       [0.36393977, 0.20653951, 0.15476507, 0.13923065, 0.13552501],\n",
       "       [0.30796959, 0.20950749, 0.1910981 , 0.15521947, 0.13620534],\n",
       "       [0.32394981, 0.21070961, 0.18647455, 0.14408223, 0.13478381],\n",
       "       [0.35199572, 0.22371126, 0.14836897, 0.14272095, 0.1332031 ],\n",
       "       [0.35294564, 0.18921604, 0.16581851, 0.15407815, 0.13794166],\n",
       "       [0.36967007, 0.19941307, 0.16135341, 0.13549561, 0.13406784],\n",
       "       [0.36097766, 0.22244019, 0.15094604, 0.13479007, 0.13084604],\n",
       "       [0.32254652, 0.20780637, 0.18034779, 0.15191034, 0.13738899],\n",
       "       [0.35739717, 0.20482777, 0.15430443, 0.15024417, 0.13322646],\n",
       "       [0.20944791, 0.26205245, 0.22467259, 0.16133542, 0.14249163],\n",
       "       [0.33408893, 0.2312803 , 0.14831954, 0.15350176, 0.13280948],\n",
       "       [0.27930869, 0.21976088, 0.20084711, 0.16011494, 0.13996837],\n",
       "       [0.34006386, 0.20497031, 0.16354718, 0.15675381, 0.13466485],\n",
       "       [0.36713569, 0.21651258, 0.15333599, 0.130125  , 0.13289073],\n",
       "       [0.31735512, 0.22529309, 0.16114766, 0.15953658, 0.13666755],\n",
       "       [0.36869893, 0.20421499, 0.16108217, 0.13139066, 0.13461325],\n",
       "       [0.28786512, 0.24160779, 0.17499662, 0.15480069, 0.14072978],\n",
       "       [0.31353299, 0.2274707 , 0.17128388, 0.15439956, 0.13331287],\n",
       "       [0.27433424, 0.23362024, 0.20167773, 0.1548221 , 0.1355457 ],\n",
       "       [0.32997368, 0.2427109 , 0.1584631 , 0.13831299, 0.13053934],\n",
       "       [0.29675182, 0.2453924 , 0.17188336, 0.15316452, 0.13280789],\n",
       "       [0.28125223, 0.2420458 , 0.1821286 , 0.1581817 , 0.13639167],\n",
       "       [0.3162103 , 0.21818541, 0.18092085, 0.15096131, 0.13372212],\n",
       "       [0.29353697, 0.24913579, 0.17015787, 0.1551635 , 0.13200588],\n",
       "       [0.12604166, 0.28328858, 0.24527037, 0.1923085 , 0.15309088],\n",
       "       [0.29274822, 0.22830527, 0.17529012, 0.16200143, 0.14165496],\n",
       "       [0.39159556, 0.20507999, 0.14699676, 0.12378794, 0.13253976],\n",
       "       [0.30562161, 0.23665394, 0.17186957, 0.1513778 , 0.13447708],\n",
       "       [0.3325471 , 0.19086617, 0.19515989, 0.14032878, 0.14109806],\n",
       "       [0.34696989, 0.21579221, 0.16714812, 0.13533984, 0.13474994],\n",
       "       [0.2780332 , 0.21894041, 0.18639604, 0.17373682, 0.14289353],\n",
       "       [0.26007456, 0.23692728, 0.19599485, 0.16537634, 0.14162696],\n",
       "       [0.37203453, 0.21865887, 0.14130195, 0.1366186 , 0.13138606],\n",
       "       [0.33443832, 0.23251077, 0.16227047, 0.13955689, 0.13122355],\n",
       "       [0.33173524, 0.22803807, 0.15298781, 0.15433536, 0.13290352],\n",
       "       [0.32321504, 0.22257228, 0.16186128, 0.15805461, 0.13429678],\n",
       "       [0.29933051, 0.23845284, 0.18142801, 0.14761185, 0.13317678],\n",
       "       [0.37391453, 0.22232129, 0.13478048, 0.13704387, 0.13193983],\n",
       "       [0.30420258, 0.24617515, 0.16524351, 0.15171154, 0.13266722],\n",
       "       [0.27342717, 0.25823607, 0.18424433, 0.15203437, 0.13205806]])"
      ]
     },
     "execution_count": 15,
     "metadata": {},
     "output_type": "execute_result"
    }
   ],
   "source": [
    "yhat_prob = LR.predict_proba(X_test)\n",
    "yhat_prob"
   ]
  },
  {
   "cell_type": "code",
   "execution_count": 16,
   "id": "06f79d75-69cc-4e3b-a934-6b56f93f1f36",
   "metadata": {},
   "outputs": [
    {
     "data": {
      "text/plain": [
       "0.5857142857142857"
      ]
     },
     "execution_count": 16,
     "metadata": {},
     "output_type": "execute_result"
    }
   ],
   "source": [
    "from sklearn.metrics import jaccard_similarity_score\n",
    "jaccard_similarity_score(y_test, yhat)"
   ]
  },
  {
   "cell_type": "code",
   "execution_count": 22,
   "id": "99b415c2-f077-47a2-8f76-fab074ac7925",
   "metadata": {},
   "outputs": [
    {
     "name": "stdout",
     "output_type": "stream",
     "text": [
      "              precision    recall  f1-score   support\n",
      "\n",
      "           1       0.60      0.99      0.75        79\n",
      "           2       0.25      0.06      0.09        36\n",
      "           3       1.00      0.12      0.21        17\n",
      "           4       0.00      0.00      0.00         5\n",
      "           5       0.00      0.00      0.00         3\n",
      "\n",
      "   micro avg       0.59      0.59      0.59       140\n",
      "   macro avg       0.37      0.23      0.21       140\n",
      "weighted avg       0.52      0.59      0.47       140\n",
      "\n"
     ]
    }
   ],
   "source": [
    "print (classification_report(y_test, yhat))"
   ]
  }
 ],
 "metadata": {
  "kernelspec": {
   "display_name": "Python",
   "language": "python",
   "name": "conda-env-python-py"
  },
  "language_info": {
   "codemirror_mode": {
    "name": "ipython",
    "version": 3
   },
   "file_extension": ".py",
   "mimetype": "text/x-python",
   "name": "python",
   "nbconvert_exporter": "python",
   "pygments_lexer": "ipython3",
   "version": "3.7.12"
  }
 },
 "nbformat": 4,
 "nbformat_minor": 5
}
